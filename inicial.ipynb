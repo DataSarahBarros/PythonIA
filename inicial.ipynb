{
 "cells": [
  {
   "cell_type": "markdown",
   "metadata": {},
   "source": [
    "# Projeto Python IA: Inteligência Artificial e Previsões\n",
    "\n",
    "### Case: Score de Crédito dos Clientes\n",
    "\n",
    "Analise para definir o score de crédito dos clientes. É necessario analisar todos os clientes do banco, com base nessa análise criar um modelo que consiga ler as informações do cliente e trazer informações automaticamente sobre o score de crédito dele pelos seguintes status: Ruim, Mediano ou Bom."
   ]
  },
  {
   "cell_type": "code",
   "execution_count": null,
   "metadata": {},
   "outputs": [],
   "source": [
    "# Passo 0: Entender o desafio e a empresa\n",
    "# Passo 1: Importar a base de dados\n",
    "# pacotes de códigos = bibliotecas\n",
    "# !pip install pandas scikit-learn\n",
    "\n",
    "import pandas as pd\n",
    "\n",
    "tabela = pd.read_csv(\"clientes.csv\")\n",
    "display(tabela)"
   ]
  },
  {
   "cell_type": "code",
   "execution_count": null,
   "metadata": {},
   "outputs": [],
   "source": [
    "# Passo 2: Prepara a base de dados para IA\n",
    "print(tabela.info())\n",
    "print(tabela.columns)\n",
    "\n",
    "#Dtype = tipo de dados\n",
    "# int = numero inteiro\n",
    "# float = numero com casa decimal\n",
    "# object = texto\n",
    "\n",
    "# modelo de IA não entende texto\n",
    "\n",
    "# score de credito:\n",
    "# Good = Bom\n",
    "# Poor = Ruim \n",
    "# Standard = Mediano"
   ]
  },
  {
   "cell_type": "code",
   "execution_count": null,
   "metadata": {},
   "outputs": [],
   "source": [
    "# Profissao\n",
    "# Label Encoder (subtituir um texto por numero)\n",
    "# Exemplo:\n",
    "    # cientista - 1\n",
    "    # mecanico - 5\n",
    "    # medico - 7\n",
    "\n",
    "# Label Encoder\n",
    "from sklearn.preprocessing import LabelEncoder\n",
    "codificador = LabelEncoder ()\n",
    "tabela[\"profissao\"] = codificador.fit_transform(tabela[\"profissao\"])\n",
    "\n",
    "# Mix_credito\n",
    "codificador2 = LabelEncoder()\n",
    "tabela[\"mix_credito\"] = codificador2.fit_transform(tabela[\"mix_credito\"])\n",
    "\n",
    "# comportamento_pagamento\n",
    "codificador3 = LabelEncoder()\n",
    "tabela[\"comportamento_pagamento\"] = codificador3.fit_transform(tabela[\"comportamento_pagamento\"])\n",
    "\n",
    "display(tabela.info())"
   ]
  },
  {
   "cell_type": "code",
   "execution_count": 5,
   "metadata": {},
   "outputs": [],
   "source": [
    "# Treinamento da IA\n",
    "# y é oque eu quero prever\n",
    "# x é oque vou usar para fazer a previsão\n",
    "y = tabela[\"score_credito\"]\n",
    "x = tabela.drop(columns=[\"score_credito\", \"id_cliente\"])\n",
    "\n",
    "from sklearn.model_selection import train_test_split\n",
    "x_treino, x_teste, y_treino, y_teste = train_test_split(x, y, test_size=0.3)"
   ]
  },
  {
   "cell_type": "code",
   "execution_count": null,
   "metadata": {},
   "outputs": [],
   "source": [
    "# Passo 3: Criar modelo de IA - Nota/Score de crédito\n",
    "# Arvore de decisão = RandomForest\n",
    "# Vizinhos Próximos (Nearest Neighbors) = KNN\n",
    "\n",
    "# Importar IA\n",
    "from sklearn.ensemble import RandomForestClassifier\n",
    "from sklearn.neighbors import KNeighborsClassifier\n",
    "# Criar IA\n",
    "modelo_arvoredecisao = RandomForestClassifier()\n",
    "modelo_knn = KNeighborsClassifier()\n",
    "\n",
    "# Treinar IA\n",
    "modelo_arvoredecisao.fit(x_treino, y_treino)\n",
    "modelo_knn.fit(x_treino, y_treino)"
   ]
  },
  {
   "cell_type": "code",
   "execution_count": null,
   "metadata": {},
   "outputs": [],
   "source": [
    "# Passo 4: Avaliar melhores modelos de IA\n",
    "previsao_arvoredecisao = modelo_arvoredecisao.predict(x_teste)\n",
    "previsao_knn = modelo_knn.predict(x_teste)\n",
    "\n",
    "# acurácia\n",
    "from sklearn.metrics import accuracy_score\n",
    "display(accuracy_score(y_teste, previsao_arvoredecisao))\n",
    "display(accuracy_score(y_teste, previsao_knn))"
   ]
  },
  {
   "cell_type": "code",
   "execution_count": null,
   "metadata": {},
   "outputs": [],
   "source": [
    "# Passo 5: Fazer previsões\n",
    "# modelo_arvoredecisao\n",
    "\n",
    "tabela_novos_clientes = pd.read_csv(\"novos_clientes.csv\")\n",
    "display(tabela_novos_clientes)\n",
    "\n",
    "tabela_novos_clientes[\"profissao\"] = codificador.fit_transform(tabela_novos_clientes[\"profissao\"])\n",
    "tabela_novos_clientes[\"mix_credito\"] = codificador2.fit_transform(tabela_novos_clientes[\"mix_credito\"])\n",
    "tabela_novos_clientes[\"comportamento_pagamento\"] = codificador3.fit_transform(tabela_novos_clientes[\"comportamento_pagamento\"])\n",
    "\n",
    "previsao = modelo_arvoredecisao.predict(tabela_novos_clientes)\n",
    "display(previsao)"
   ]
  }
 ],
 "metadata": {
  "kernelspec": {
   "display_name": "Python 3",
   "language": "python",
   "name": "python3"
  },
  "language_info": {
   "codemirror_mode": {
    "name": "ipython",
    "version": 3
   },
   "file_extension": ".py",
   "mimetype": "text/x-python",
   "name": "python",
   "nbconvert_exporter": "python",
   "pygments_lexer": "ipython3",
   "version": "3.11.9"
  },
  "orig_nbformat": 4
 },
 "nbformat": 4,
 "nbformat_minor": 2
}
